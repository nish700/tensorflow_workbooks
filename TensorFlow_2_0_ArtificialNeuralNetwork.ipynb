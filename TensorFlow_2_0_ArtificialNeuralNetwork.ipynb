{
  "nbformat": 4,
  "nbformat_minor": 0,
  "metadata": {
    "colab": {
      "provenance": [],
      "collapsed_sections": [
        "VkEkyXNdsdIM",
        "pnpYGKwCsoyp"
      ]
    },
    "kernelspec": {
      "name": "python3",
      "display_name": "Python 3"
    },
    "language_info": {
      "name": "python"
    }
  },
  "cells": [
    {
      "cell_type": "markdown",
      "source": [
        "<p align=\"center\">\n",
        "  <img src=\"https://github.com/zalandoresearch/fashion-mnist/raw/master/doc/img/fashion-mnist-sprite.png\" height=300px width=80%/>\n",
        "\n",
        "  Image source: github.com/zalandoresearch/fashion-mnist\n",
        "</p>"
      ],
      "metadata": {
        "id": "o5wXAycQ6E4U"
      }
    },
    {
      "cell_type": "markdown",
      "source": [
        "##Importing the libraries and dependencies"
      ],
      "metadata": {
        "id": "VkEkyXNdsdIM"
      }
    },
    {
      "cell_type": "code",
      "execution_count": 1,
      "metadata": {
        "id": "NEWZWAQHZqkR"
      },
      "outputs": [],
      "source": [
        "import numpy as np\n",
        "import datetime\n",
        "from sklearn.model_selection import train_test_split\n",
        "import matplotlib.pyplot as plt\n",
        "import seaborn as sns\n",
        "\n",
        "import tensorflow as tf\n",
        "from tensorflow.keras.datasets import fashion_mnist"
      ]
    },
    {
      "cell_type": "code",
      "source": [
        "tf.__version__"
      ],
      "metadata": {
        "colab": {
          "base_uri": "https://localhost:8080/",
          "height": 0
        },
        "id": "9LAFt_ivaNjK",
        "outputId": "9aafe595-66e6-42ee-c36c-9614667b3e63"
      },
      "execution_count": 2,
      "outputs": [
        {
          "output_type": "execute_result",
          "data": {
            "text/plain": [
              "'2.12.0'"
            ],
            "application/vnd.google.colaboratory.intrinsic+json": {
              "type": "string"
            }
          },
          "metadata": {},
          "execution_count": 2
        }
      ]
    },
    {
      "cell_type": "markdown",
      "source": [
        "## Preparing the dataset"
      ],
      "metadata": {
        "id": "pnpYGKwCsoyp"
      }
    },
    {
      "cell_type": "markdown",
      "source": [
        "### Loading the dataset from keras dataset library"
      ],
      "metadata": {
        "id": "rpZgC2llsuCI"
      }
    },
    {
      "cell_type": "code",
      "source": [
        "#load the datasets\n",
        "(X_train_full, y_train_full),(X_test, y_test) = fashion_mnist.load_data()\n",
        "X_train_full.shape, X_test.shape, y_train_full.shape, y_test.shape "
      ],
      "metadata": {
        "colab": {
          "base_uri": "https://localhost:8080/"
        },
        "id": "Ei7uujITavIW",
        "outputId": "92e362ff-4730-41a5-ed53-16716a69b621"
      },
      "execution_count": 3,
      "outputs": [
        {
          "output_type": "execute_result",
          "data": {
            "text/plain": [
              "((60000, 28, 28), (10000, 28, 28), (60000,), (10000,))"
            ]
          },
          "metadata": {},
          "execution_count": 3
        }
      ]
    },
    {
      "cell_type": "markdown",
      "source": [
        "### Splitting the data into train and validation set"
      ],
      "metadata": {
        "id": "hxcNAAnZtFmA"
      }
    },
    {
      "cell_type": "code",
      "source": [
        "#train and validation set\n",
        "X_train, X_val, y_train,y_val = train_test_split(X_train_full, y_train_full, test_size=0.2)\n",
        "X_train.shape, y_train.shape, X_val.shape, y_val.shape"
      ],
      "metadata": {
        "colab": {
          "base_uri": "https://localhost:8080/"
        },
        "id": "apUCaBCBgKtS",
        "outputId": "6456a1ba-2862-4417-c750-f8394c24e56c"
      },
      "execution_count": 4,
      "outputs": [
        {
          "output_type": "execute_result",
          "data": {
            "text/plain": [
              "((48000, 28, 28), (48000,), (12000, 28, 28), (12000,))"
            ]
          },
          "metadata": {},
          "execution_count": 4
        }
      ]
    },
    {
      "cell_type": "markdown",
      "source": [
        "###Normalise the images"
      ],
      "metadata": {
        "id": "Nw3-_aujs8F_"
      }
    },
    {
      "cell_type": "markdown",
      "source": [
        "Divide each image in the training , validation and testing set with the maxiumum number of pixels i.e. 255.\n",
        "\n",
        "This is to ensure that each pixel is in the range [0, 1]. \n",
        "\n",
        "Also normalizing images helps the model to converge faster."
      ],
      "metadata": {
        "id": "OEnKPQ5EwxML"
      }
    },
    {
      "cell_type": "code",
      "source": [
        "X_train_full = X_train_full/255.0"
      ],
      "metadata": {
        "id": "WQkKIe7ScE6-"
      },
      "execution_count": 5,
      "outputs": []
    },
    {
      "cell_type": "code",
      "source": [
        "X_test = X_test/255.0"
      ],
      "metadata": {
        "id": "C8jJhWxrcPef"
      },
      "execution_count": 6,
      "outputs": []
    },
    {
      "cell_type": "markdown",
      "source": [
        "###Reshaping the dataset"
      ],
      "metadata": {
        "id": "FXVcvgEBtM_r"
      }
    },
    {
      "cell_type": "markdown",
      "source": [
        "reshape the input to be in a vector format, as is required by a fully connected network"
      ],
      "metadata": {
        "id": "1fhOlKUXxgoT"
      }
    },
    {
      "cell_type": "code",
      "source": [
        "X_train = X_train.reshape(-1, 28*28)\n",
        "X_train.shape"
      ],
      "metadata": {
        "colab": {
          "base_uri": "https://localhost:8080/"
        },
        "id": "ypapWH7PcSIy",
        "outputId": "39419b3f-08af-4d0c-9809-31c0155c4ed4"
      },
      "execution_count": 7,
      "outputs": [
        {
          "output_type": "execute_result",
          "data": {
            "text/plain": [
              "(48000, 784)"
            ]
          },
          "metadata": {},
          "execution_count": 7
        }
      ]
    },
    {
      "cell_type": "code",
      "source": [
        "X_val = X_val.reshape(-1, 28*28)\n",
        "X_val.shape"
      ],
      "metadata": {
        "colab": {
          "base_uri": "https://localhost:8080/"
        },
        "id": "tVX_PQFRg2nF",
        "outputId": "e8bbb483-6e97-4eb0-b670-291fc4e6481c"
      },
      "execution_count": 8,
      "outputs": [
        {
          "output_type": "execute_result",
          "data": {
            "text/plain": [
              "(12000, 784)"
            ]
          },
          "metadata": {},
          "execution_count": 8
        }
      ]
    },
    {
      "cell_type": "code",
      "source": [
        "X_test = X_test.reshape(-2, 28*28)\n",
        "X_test.shape"
      ],
      "metadata": {
        "colab": {
          "base_uri": "https://localhost:8080/"
        },
        "id": "sunnsIyyclbO",
        "outputId": "e9de7789-79bd-42c0-bf0d-929c07b23be7"
      },
      "execution_count": 9,
      "outputs": [
        {
          "output_type": "execute_result",
          "data": {
            "text/plain": [
              "(10000, 784)"
            ]
          },
          "metadata": {},
          "execution_count": 9
        }
      ]
    },
    {
      "cell_type": "markdown",
      "source": [
        "##Building an Artificial Neural Network"
      ],
      "metadata": {
        "id": "kze4qTVudCyt"
      }
    },
    {
      "cell_type": "markdown",
      "source": [
        "Step 1 : Defining the model\n",
        "\n",
        "Step 2 : Adding the first layer (Dense layer)\n",
        "\n",
        "Step 3 :  Adding a Dropout layer\n",
        "\n",
        "Step 4 :  Adding the second layer (output layer)"
      ],
      "metadata": {
        "id": "Eh57IH82yAzv"
      }
    },
    {
      "cell_type": "markdown",
      "source": [
        "**Defining the model** : \n",
        "\n",
        "Define an object of the Sequential model."
      ],
      "metadata": {
        "id": "qsKLmbp3ysO0"
      }
    },
    {
      "cell_type": "code",
      "source": [
        "model = tf.keras.models.Sequential()"
      ],
      "metadata": {
        "id": "8D2G16f8yhLz"
      },
      "execution_count": 10,
      "outputs": []
    },
    {
      "cell_type": "markdown",
      "source": [
        "**Adding the first layer (Dense layer):**\n",
        "\n",
        "Hyper-parameters used for the layer are:\n",
        "\n",
        "number of units/neurons: 128\n",
        "\n",
        "activation function: ReLU\n",
        "\n",
        "input_shape: (784, )"
      ],
      "metadata": {
        "id": "qbJQjylgy31K"
      }
    },
    {
      "cell_type": "code",
      "source": [
        "model.add(tf.keras.layers.Dense(units=128, activation='relu', input_shape=(784,)))"
      ],
      "metadata": {
        "id": "UmEjun8pzJI5"
      },
      "execution_count": 11,
      "outputs": []
    },
    {
      "cell_type": "markdown",
      "source": [
        "**Adding a Dropout layer**\n",
        "\n",
        "Dropout is a Regularization technique where the neurons in a layer are set to zero. \n",
        "\n",
        "In this way, while training those neurons won't be updated. \n",
        "\n",
        "This reduces the chance of overfitting of a network."
      ],
      "metadata": {
        "id": "SdGXGeZizgJ9"
      }
    },
    {
      "cell_type": "code",
      "source": [
        "model.add(tf.keras.layers.Dropout(rate=0.40))\n",
        "#dropout rate can be changed as needed"
      ],
      "metadata": {
        "id": "MXNxTSZQzVN4"
      },
      "execution_count": 12,
      "outputs": []
    },
    {
      "cell_type": "markdown",
      "source": [
        "**Adding the second layer (output layer)**\n",
        "\n",
        "no of units == number of output classes (10 in the case of Fashion MNIST)\n",
        "\n",
        "activation function = 'softmax'(as it gives probability summing up to 1)"
      ],
      "metadata": {
        "id": "RjoVkHj00IXT"
      }
    },
    {
      "cell_type": "code",
      "source": [
        "model.add(tf.keras.layers.Dense(units=10,activation='softmax'))"
      ],
      "metadata": {
        "id": "gArA8vYI0f_D"
      },
      "execution_count": 13,
      "outputs": []
    },
    {
      "cell_type": "markdown",
      "source": [
        "**Final Model after some trails**"
      ],
      "metadata": {
        "id": "3EASyr1s0ulZ"
      }
    },
    {
      "cell_type": "code",
      "source": [
        "model = tf.keras.models.Sequential()\n",
        "model.add(tf.keras.layers.Dense(units=128, activation='relu', input_shape=(784,)))\n",
        "model.add(tf.keras.layers.Dropout(rate=0.40))\n",
        "model.add(tf.keras.layers.Dense(units=64, activation='relu'))\n",
        "model.add(tf.keras.layers.Dropout(rate=0.30))\n",
        "model.add(tf.keras.layers.Dense(units=32, activation='relu'))\n",
        "model.add(tf.keras.layers.Dropout(rate=0.25))\n",
        "model.add(tf.keras.layers.Dense(units=10,activation='softmax'))"
      ],
      "metadata": {
        "id": "NI4JCyUpdGjz"
      },
      "execution_count": 14,
      "outputs": []
    },
    {
      "cell_type": "markdown",
      "source": [
        "## Compile the model"
      ],
      "metadata": {
        "id": "pJmCSTnBtn6r"
      }
    },
    {
      "cell_type": "markdown",
      "source": [
        "**Optimizer**: Adam\n",
        "\n",
        "**Loss**: Sparse categorical crossentropy - this is used when the number of classes to predict is more than two"
      ],
      "metadata": {
        "id": "Y62mt5vv1OmX"
      }
    },
    {
      "cell_type": "code",
      "source": [
        "#compile\n",
        "model.compile(optimizer='adam', loss='sparse_categorical_crossentropy',metrics= ['sparse_categorical_accuracy'])"
      ],
      "metadata": {
        "id": "-MhneYd-fPx9"
      },
      "execution_count": 15,
      "outputs": []
    },
    {
      "cell_type": "code",
      "source": [
        "model.summary()"
      ],
      "metadata": {
        "colab": {
          "base_uri": "https://localhost:8080/"
        },
        "id": "gLCyNnY-fj43",
        "outputId": "7195c3eb-54fd-4b67-f719-ab26647ac4ca"
      },
      "execution_count": 16,
      "outputs": [
        {
          "output_type": "stream",
          "name": "stdout",
          "text": [
            "Model: \"sequential_1\"\n",
            "_________________________________________________________________\n",
            " Layer (type)                Output Shape              Param #   \n",
            "=================================================================\n",
            " dense_2 (Dense)             (None, 128)               100480    \n",
            "                                                                 \n",
            " dropout_1 (Dropout)         (None, 128)               0         \n",
            "                                                                 \n",
            " dense_3 (Dense)             (None, 64)                8256      \n",
            "                                                                 \n",
            " dropout_2 (Dropout)         (None, 64)                0         \n",
            "                                                                 \n",
            " dense_4 (Dense)             (None, 32)                2080      \n",
            "                                                                 \n",
            " dropout_3 (Dropout)         (None, 32)                0         \n",
            "                                                                 \n",
            " dense_5 (Dense)             (None, 10)                330       \n",
            "                                                                 \n",
            "=================================================================\n",
            "Total params: 111,146\n",
            "Trainable params: 111,146\n",
            "Non-trainable params: 0\n",
            "_________________________________________________________________\n"
          ]
        }
      ]
    },
    {
      "cell_type": "markdown",
      "source": [
        "###Plot the model"
      ],
      "metadata": {
        "id": "oLDKJ0qH5TGQ"
      }
    },
    {
      "cell_type": "markdown",
      "source": [
        "plot the model and export the image "
      ],
      "metadata": {
        "id": "mDdIHnG95WE7"
      }
    },
    {
      "cell_type": "code",
      "source": [
        "tf.keras.utils.plot_model(model,\n",
        "                          to_file='model.png',\n",
        "                          show_shapes=True,\n",
        "                          show_dtype=True,\n",
        "                          show_layer_activations=True,\n",
        "                          show_trainable=True)"
      ],
      "metadata": {
        "colab": {
          "base_uri": "https://localhost:8080/",
          "height": 1000
        },
        "id": "LTAArUG95bxR",
        "outputId": "6755a0b8-9566-42ae-f304-fd50e266e2df"
      },
      "execution_count": 17,
      "outputs": [
        {
          "output_type": "execute_result",
          "data": {
            "image/png": "[encoded data removed]",
            "text/plain": [
              "<IPython.core.display.Image object>"
            ]
          },
          "metadata": {},
          "execution_count": 17
        }
      ]
    },
    {
      "cell_type": "markdown",
      "source": [
        "## fit the model"
      ],
      "metadata": {
        "id": "kHS1x6TWttFl"
      }
    },
    {
      "cell_type": "markdown",
      "source": [
        "training the model to learn from the image data"
      ],
      "metadata": {
        "id": "dt5Fs4UG3z5n"
      }
    },
    {
      "cell_type": "code",
      "source": [
        "#train model\n",
        "history = model.fit(X_train, y_train, epochs=50, validation_data=[X_val, y_val])"
      ],
      "metadata": {
        "colab": {
          "base_uri": "https://localhost:8080/"
        },
        "id": "KQ9S4g6Kfnwp",
        "outputId": "34dfa900-97de-4dfc-cd72-b0a0e184f1e2"
      },
      "execution_count": 18,
      "outputs": [
        {
          "output_type": "stream",
          "name": "stdout",
          "text": [
            "Epoch 1/50\n",
            "1500/1500 [==============================] - 17s 10ms/step - loss: 3.5003 - sparse_categorical_accuracy: 0.1352 - val_loss: 2.1662 - val_sparse_categorical_accuracy: 0.1699\n",
            "Epoch 2/50\n",
            "1500/1500 [==============================] - 15s 10ms/step - loss: 2.2161 - sparse_categorical_accuracy: 0.1454 - val_loss: 2.1091 - val_sparse_categorical_accuracy: 0.1826\n",
            "Epoch 3/50\n",
            "1500/1500 [==============================] - 10s 7ms/step - loss: 2.0242 - sparse_categorical_accuracy: 0.2081 - val_loss: 1.7272 - val_sparse_categorical_accuracy: 0.3019\n",
            "Epoch 4/50\n",
            "1500/1500 [==============================] - 7s 5ms/step - loss: 1.7805 - sparse_categorical_accuracy: 0.2779 - val_loss: 1.5706 - val_sparse_categorical_accuracy: 0.3630\n",
            "Epoch 5/50\n",
            "1500/1500 [==============================] - 8s 6ms/step - loss: 1.6655 - sparse_categorical_accuracy: 0.3198 - val_loss: 1.4027 - val_sparse_categorical_accuracy: 0.4451\n",
            "Epoch 6/50\n",
            "1500/1500 [==============================] - 7s 5ms/step - loss: 1.5543 - sparse_categorical_accuracy: 0.3650 - val_loss: 1.3418 - val_sparse_categorical_accuracy: 0.4481\n",
            "Epoch 7/50\n",
            "1500/1500 [==============================] - 8s 5ms/step - loss: 1.5024 - sparse_categorical_accuracy: 0.3776 - val_loss: 1.3249 - val_sparse_categorical_accuracy: 0.4518\n",
            "Epoch 8/50\n",
            "1500/1500 [==============================] - 8s 5ms/step - loss: 1.4764 - sparse_categorical_accuracy: 0.3867 - val_loss: 1.2947 - val_sparse_categorical_accuracy: 0.4618\n",
            "Epoch 9/50\n",
            "1500/1500 [==============================] - 8s 5ms/step - loss: 1.4511 - sparse_categorical_accuracy: 0.3942 - val_loss: 1.2934 - val_sparse_categorical_accuracy: 0.4576\n",
            "Epoch 10/50\n",
            "1500/1500 [==============================] - 8s 6ms/step - loss: 1.4396 - sparse_categorical_accuracy: 0.3980 - val_loss: 1.2686 - val_sparse_categorical_accuracy: 0.4663\n",
            "Epoch 11/50\n",
            "1500/1500 [==============================] - 7s 5ms/step - loss: 1.4105 - sparse_categorical_accuracy: 0.4084 - val_loss: 1.2667 - val_sparse_categorical_accuracy: 0.4647\n",
            "Epoch 12/50\n",
            "1500/1500 [==============================] - 9s 6ms/step - loss: 1.3854 - sparse_categorical_accuracy: 0.4209 - val_loss: 1.2324 - val_sparse_categorical_accuracy: 0.4638\n",
            "Epoch 13/50\n",
            "1500/1500 [==============================] - 11s 7ms/step - loss: 1.3598 - sparse_categorical_accuracy: 0.4289 - val_loss: 1.2519 - val_sparse_categorical_accuracy: 0.4621\n",
            "Epoch 14/50\n",
            "1500/1500 [==============================] - 8s 5ms/step - loss: 1.3445 - sparse_categorical_accuracy: 0.4328 - val_loss: 1.2434 - val_sparse_categorical_accuracy: 0.4660\n",
            "Epoch 15/50\n",
            "1500/1500 [==============================] - 8s 5ms/step - loss: 1.3378 - sparse_categorical_accuracy: 0.4343 - val_loss: 1.2258 - val_sparse_categorical_accuracy: 0.4693\n",
            "Epoch 16/50\n",
            "1500/1500 [==============================] - 9s 6ms/step - loss: 1.3202 - sparse_categorical_accuracy: 0.4347 - val_loss: 1.2373 - val_sparse_categorical_accuracy: 0.4671\n",
            "Epoch 17/50\n",
            "1500/1500 [==============================] - 7s 5ms/step - loss: 1.3281 - sparse_categorical_accuracy: 0.4384 - val_loss: 1.2427 - val_sparse_categorical_accuracy: 0.4607\n",
            "Epoch 18/50\n",
            "1500/1500 [==============================] - 9s 6ms/step - loss: 1.3147 - sparse_categorical_accuracy: 0.4386 - val_loss: 1.2618 - val_sparse_categorical_accuracy: 0.4618\n",
            "Epoch 19/50\n",
            "1500/1500 [==============================] - 9s 6ms/step - loss: 1.3195 - sparse_categorical_accuracy: 0.4398 - val_loss: 1.2274 - val_sparse_categorical_accuracy: 0.4626\n",
            "Epoch 20/50\n",
            "1500/1500 [==============================] - 8s 5ms/step - loss: 1.3152 - sparse_categorical_accuracy: 0.4416 - val_loss: 1.2113 - val_sparse_categorical_accuracy: 0.4673\n",
            "Epoch 21/50\n",
            "1500/1500 [==============================] - 8s 6ms/step - loss: 1.3067 - sparse_categorical_accuracy: 0.4407 - val_loss: 1.2344 - val_sparse_categorical_accuracy: 0.4557\n",
            "Epoch 22/50\n",
            "1500/1500 [==============================] - 8s 5ms/step - loss: 1.3055 - sparse_categorical_accuracy: 0.4396 - val_loss: 1.2385 - val_sparse_categorical_accuracy: 0.4627\n",
            "Epoch 23/50\n",
            "1500/1500 [==============================] - 10s 6ms/step - loss: 1.2942 - sparse_categorical_accuracy: 0.4538 - val_loss: 1.1072 - val_sparse_categorical_accuracy: 0.5742\n",
            "Epoch 24/50\n",
            "1500/1500 [==============================] - 8s 5ms/step - loss: 1.2692 - sparse_categorical_accuracy: 0.4780 - val_loss: 1.0956 - val_sparse_categorical_accuracy: 0.5502\n",
            "Epoch 25/50\n",
            "1500/1500 [==============================] - 11s 8ms/step - loss: 1.2512 - sparse_categorical_accuracy: 0.4874 - val_loss: 1.0633 - val_sparse_categorical_accuracy: 0.5642\n",
            "Epoch 26/50\n",
            "1500/1500 [==============================] - 7s 5ms/step - loss: 1.2417 - sparse_categorical_accuracy: 0.4952 - val_loss: 1.0545 - val_sparse_categorical_accuracy: 0.5723\n",
            "Epoch 27/50\n",
            "1500/1500 [==============================] - 8s 6ms/step - loss: 1.2455 - sparse_categorical_accuracy: 0.4878 - val_loss: 1.0842 - val_sparse_categorical_accuracy: 0.5522\n",
            "Epoch 28/50\n",
            "1500/1500 [==============================] - 8s 5ms/step - loss: 1.2494 - sparse_categorical_accuracy: 0.4922 - val_loss: 1.0430 - val_sparse_categorical_accuracy: 0.5708\n",
            "Epoch 29/50\n",
            "1500/1500 [==============================] - 7s 5ms/step - loss: 1.2191 - sparse_categorical_accuracy: 0.4981 - val_loss: 1.0139 - val_sparse_categorical_accuracy: 0.5878\n",
            "Epoch 30/50\n",
            "1500/1500 [==============================] - 9s 6ms/step - loss: 1.1936 - sparse_categorical_accuracy: 0.5040 - val_loss: 1.0379 - val_sparse_categorical_accuracy: 0.5619\n",
            "Epoch 31/50\n",
            "1500/1500 [==============================] - 7s 5ms/step - loss: 1.1839 - sparse_categorical_accuracy: 0.5081 - val_loss: 1.0182 - val_sparse_categorical_accuracy: 0.5577\n",
            "Epoch 32/50\n",
            "1500/1500 [==============================] - 8s 5ms/step - loss: 1.1990 - sparse_categorical_accuracy: 0.5013 - val_loss: 0.9961 - val_sparse_categorical_accuracy: 0.5918\n",
            "Epoch 33/50\n",
            "1500/1500 [==============================] - 8s 6ms/step - loss: 1.1856 - sparse_categorical_accuracy: 0.5072 - val_loss: 1.0118 - val_sparse_categorical_accuracy: 0.5641\n",
            "Epoch 34/50\n",
            "1500/1500 [==============================] - 8s 5ms/step - loss: 1.1752 - sparse_categorical_accuracy: 0.5133 - val_loss: 1.0069 - val_sparse_categorical_accuracy: 0.5842\n",
            "Epoch 35/50\n",
            "1500/1500 [==============================] - 9s 6ms/step - loss: 1.1873 - sparse_categorical_accuracy: 0.5058 - val_loss: 1.0322 - val_sparse_categorical_accuracy: 0.5686\n",
            "Epoch 36/50\n",
            "1500/1500 [==============================] - 8s 6ms/step - loss: 1.1957 - sparse_categorical_accuracy: 0.5040 - val_loss: 1.0383 - val_sparse_categorical_accuracy: 0.5554\n",
            "Epoch 37/50\n",
            "1500/1500 [==============================] - 8s 5ms/step - loss: 1.1757 - sparse_categorical_accuracy: 0.5099 - val_loss: 1.0190 - val_sparse_categorical_accuracy: 0.5627\n",
            "Epoch 38/50\n",
            "1500/1500 [==============================] - 9s 6ms/step - loss: 1.1922 - sparse_categorical_accuracy: 0.5047 - val_loss: 1.1657 - val_sparse_categorical_accuracy: 0.5159\n",
            "Epoch 39/50\n",
            "1500/1500 [==============================] - 9s 6ms/step - loss: 1.1993 - sparse_categorical_accuracy: 0.5089 - val_loss: 1.0118 - val_sparse_categorical_accuracy: 0.5658\n",
            "Epoch 40/50\n",
            "1500/1500 [==============================] - 7s 5ms/step - loss: 1.1685 - sparse_categorical_accuracy: 0.5136 - val_loss: 1.0313 - val_sparse_categorical_accuracy: 0.5578\n",
            "Epoch 41/50\n",
            "1500/1500 [==============================] - 9s 6ms/step - loss: 1.1988 - sparse_categorical_accuracy: 0.4996 - val_loss: 1.2141 - val_sparse_categorical_accuracy: 0.4649\n",
            "Epoch 42/50\n",
            "1500/1500 [==============================] - 8s 5ms/step - loss: 1.2554 - sparse_categorical_accuracy: 0.4750 - val_loss: 1.1020 - val_sparse_categorical_accuracy: 0.5494\n",
            "Epoch 43/50\n",
            "1500/1500 [==============================] - 8s 5ms/step - loss: 1.1698 - sparse_categorical_accuracy: 0.5178 - val_loss: 1.0222 - val_sparse_categorical_accuracy: 0.5792\n",
            "Epoch 44/50\n",
            "1500/1500 [==============================] - 9s 6ms/step - loss: 1.1419 - sparse_categorical_accuracy: 0.5264 - val_loss: 1.0166 - val_sparse_categorical_accuracy: 0.5743\n",
            "Epoch 45/50\n",
            "1500/1500 [==============================] - 7s 5ms/step - loss: 1.1465 - sparse_categorical_accuracy: 0.5271 - val_loss: 0.9796 - val_sparse_categorical_accuracy: 0.5958\n",
            "Epoch 46/50\n",
            "1500/1500 [==============================] - 11s 7ms/step - loss: 1.1689 - sparse_categorical_accuracy: 0.5245 - val_loss: 0.9932 - val_sparse_categorical_accuracy: 0.5995\n",
            "Epoch 47/50\n",
            "1500/1500 [==============================] - 10s 7ms/step - loss: 1.1577 - sparse_categorical_accuracy: 0.5241 - val_loss: 1.0511 - val_sparse_categorical_accuracy: 0.5587\n",
            "Epoch 48/50\n",
            "1500/1500 [==============================] - 12s 8ms/step - loss: 1.1459 - sparse_categorical_accuracy: 0.5248 - val_loss: 0.9961 - val_sparse_categorical_accuracy: 0.5577\n",
            "Epoch 49/50\n",
            "1500/1500 [==============================] - 9s 6ms/step - loss: 1.1295 - sparse_categorical_accuracy: 0.5309 - val_loss: 1.0189 - val_sparse_categorical_accuracy: 0.5583\n",
            "Epoch 50/50\n",
            "1500/1500 [==============================] - 14s 9ms/step - loss: 1.1480 - sparse_categorical_accuracy: 0.5280 - val_loss: 0.9756 - val_sparse_categorical_accuracy: 0.5886\n"
          ]
        }
      ]
    },
    {
      "cell_type": "markdown",
      "source": [
        "## plot the metrics"
      ],
      "metadata": {
        "id": "d7KAzgOrtyOy"
      }
    },
    {
      "cell_type": "code",
      "source": [
        "history.history.keys()"
      ],
      "metadata": {
        "colab": {
          "base_uri": "https://localhost:8080/"
        },
        "id": "GT62r0CChdzW",
        "outputId": "00c9381b-9458-4c54-b969-fd2791916544"
      },
      "execution_count": 19,
      "outputs": [
        {
          "output_type": "execute_result",
          "data": {
            "text/plain": [
              "dict_keys(['loss', 'sparse_categorical_accuracy', 'val_loss', 'val_sparse_categorical_accuracy'])"
            ]
          },
          "metadata": {},
          "execution_count": 19
        }
      ]
    },
    {
      "cell_type": "code",
      "source": [
        "plt.plot(history.history['loss'])\n",
        "plt.plot(history.history['sparse_categorical_accuracy'])\n",
        "plt.plot(history.history['val_loss'])\n",
        "plt.plot(history.history['val_sparse_categorical_accuracy'])\n",
        "plt.legend(['loss', 'sparse_categorical_accuracy', 'val_loss', 'val_sparse_categorical_accuracy'])\n",
        "plt.show()"
      ],
      "metadata": {
        "colab": {
          "base_uri": "https://localhost:8080/",
          "height": 430
        },
        "id": "9uVE2G-ull16",
        "outputId": "2642d14a-3cdb-4a5b-d65f-4309869a7e15"
      },
      "execution_count": 20,
      "outputs": [
        {
          "output_type": "display_data",
          "data": {
            "text/plain": [
              "<Figure size 640x480 with 1 Axes>"
            ],
            "image/png": "[encoded data removed]"
          },
          "metadata": {}
        }
      ]
    },
    {
      "cell_type": "markdown",
      "source": [
        "## Evaluate the model"
      ],
      "metadata": {
        "id": "iTU44RocuH1J"
      }
    },
    {
      "cell_type": "markdown",
      "source": [
        "Checking the accuracy of the model on test(unseen) set"
      ],
      "metadata": {
        "id": "L1EN9p9R3jAe"
      }
    },
    {
      "cell_type": "code",
      "source": [
        "#evaluate\n",
        "test_loss, test_accuracy = model.evaluate(X_test, y_test)\n",
        "test_loss, test_accuracy"
      ],
      "metadata": {
        "colab": {
          "base_uri": "https://localhost:8080/"
        },
        "id": "qlUwjJgMnsf7",
        "outputId": "4f0dd436-e5ba-485c-9520-861e2bb8a72f"
      },
      "execution_count": 21,
      "outputs": [
        {
          "output_type": "stream",
          "name": "stdout",
          "text": [
            "313/313 [==============================] - 1s 3ms/step - loss: 2.4119 - sparse_categorical_accuracy: 0.1280\n"
          ]
        },
        {
          "output_type": "execute_result",
          "data": {
            "text/plain": [
              "(2.411903142929077, 0.12800000607967377)"
            ]
          },
          "metadata": {},
          "execution_count": 21
        }
      ]
    },
    {
      "cell_type": "code",
      "source": [
        "print(\"Test accuracy is : {}\".format(test_accuracy))"
      ],
      "metadata": {
        "colab": {
          "base_uri": "https://localhost:8080/"
        },
        "id": "zhDciYkP3rlb",
        "outputId": "aa67c350-d04f-466b-d1ef-3e94757de7ab"
      },
      "execution_count": 22,
      "outputs": [
        {
          "output_type": "stream",
          "name": "stdout",
          "text": [
            "Test accuracy is : 0.12800000607967377\n"
          ]
        }
      ]
    },
    {
      "cell_type": "markdown",
      "source": [
        "## Save the model for deployment"
      ],
      "metadata": {
        "id": "4Yz2xMGeuKcL"
      }
    },
    {
      "cell_type": "markdown",
      "source": [
        "Saving the architecture (topology) of the network"
      ],
      "metadata": {
        "id": "2HJHbiC63a_r"
      }
    },
    {
      "cell_type": "code",
      "source": [
        "#save the model\n",
        "model_json = model.to_json()\n",
        "with open(\"fashin_model.json\",\"w\") as json_file:\n",
        "  json_file.write(model_json)"
      ],
      "metadata": {
        "id": "XmvF3SMGoZo5"
      },
      "execution_count": 23,
      "outputs": []
    },
    {
      "cell_type": "markdown",
      "source": [
        "Saving network weights"
      ],
      "metadata": {
        "id": "XcvrDxFc3cdb"
      }
    },
    {
      "cell_type": "code",
      "source": [
        "#save weights\n",
        "model.save_weights(\"fashion_model.h5\")"
      ],
      "metadata": {
        "id": "1byaxwYTra-t"
      },
      "execution_count": 24,
      "outputs": []
    },
    {
      "cell_type": "code",
      "source": [],
      "metadata": {
        "id": "tqxT818BrsqV"
      },
      "execution_count": 24,
      "outputs": []
    }
  ]
}