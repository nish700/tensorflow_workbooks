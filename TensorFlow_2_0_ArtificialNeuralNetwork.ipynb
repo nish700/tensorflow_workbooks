{
  "nbformat": 4,
  "nbformat_minor": 0,
  "metadata": {
    "colab": {
      "provenance": []
    },
    "kernelspec": {
      "name": "python3",
      "display_name": "Python 3"
    },
    "language_info": {
      "name": "python"
    }
  },
  "cells": [
    {
      "cell_type": "markdown",
      "source": [
        "<p align=\"center\">\n",
        "  <img src=\"https://github.com/zalandoresearch/fashion-mnist/raw/master/doc/img/fashion-mnist-sprite.png\" height=300px width=80%/>\n",
        "\n",
        "  Image source: github.com/zalandoresearch/fashion-mnist\n",
        "</p>"
      ],
      "metadata": {
        "id": "o5wXAycQ6E4U"
      }
    },
    {
      "cell_type": "markdown",
      "source": [
        "##Importing the libraries and dependencies"
      ],
      "metadata": {
        "id": "VkEkyXNdsdIM"
      }
    },
    {
      "cell_type": "code",
      "execution_count": 75,
      "metadata": {
        "id": "NEWZWAQHZqkR"
      },
      "outputs": [],
      "source": [
        "import numpy as np\n",
        "import pandas as pd\n",
        "import datetime\n",
        "from sklearn.model_selection import train_test_split\n",
        "import matplotlib.pyplot as plt\n",
        "import seaborn as sns\n",
        "\n",
        "import tensorflow as tf\n",
        "from tensorflow.keras.datasets import fashion_mnist"
      ]
    },
    {
      "cell_type": "code",
      "source": [
        "tf.__version__"
      ],
      "metadata": {
        "colab": {
          "base_uri": "https://localhost:8080/",
          "height": 35
        },
        "id": "9LAFt_ivaNjK",
        "outputId": "712ab5f2-6a96-4b61-fdea-7ca77a2327aa"
      },
      "execution_count": 76,
      "outputs": [
        {
          "output_type": "execute_result",
          "data": {
            "text/plain": [
              "'2.12.0'"
            ],
            "application/vnd.google.colaboratory.intrinsic+json": {
              "type": "string"
            }
          },
          "metadata": {},
          "execution_count": 76
        }
      ]
    },
    {
      "cell_type": "markdown",
      "source": [
        "## Preparing the dataset"
      ],
      "metadata": {
        "id": "pnpYGKwCsoyp"
      }
    },
    {
      "cell_type": "markdown",
      "source": [
        "### Loading the dataset from keras dataset library"
      ],
      "metadata": {
        "id": "rpZgC2llsuCI"
      }
    },
    {
      "cell_type": "code",
      "source": [
        "#load the datasets\n",
        "(X_train_full, y_train_full),(X_test, y_test) = fashion_mnist.load_data()\n",
        "X_train_full.shape, X_test.shape, y_train_full.shape, y_test.shape "
      ],
      "metadata": {
        "colab": {
          "base_uri": "https://localhost:8080/"
        },
        "id": "Ei7uujITavIW",
        "outputId": "4f53868d-e72c-428f-c3b3-fd9564019b3f"
      },
      "execution_count": 77,
      "outputs": [
        {
          "output_type": "execute_result",
          "data": {
            "text/plain": [
              "((60000, 28, 28), (10000, 28, 28), (60000,), (10000,))"
            ]
          },
          "metadata": {},
          "execution_count": 77
        }
      ]
    },
    {
      "cell_type": "markdown",
      "source": [
        "### Splitting the data into train and validation set"
      ],
      "metadata": {
        "id": "hxcNAAnZtFmA"
      }
    },
    {
      "cell_type": "code",
      "source": [
        "#train and validation set\n",
        "X_train, X_val, y_train,y_val = train_test_split(X_train_full, y_train_full, test_size=0.166)\n",
        "X_train.shape, y_train.shape, X_val.shape, y_val.shape"
      ],
      "metadata": {
        "colab": {
          "base_uri": "https://localhost:8080/"
        },
        "id": "apUCaBCBgKtS",
        "outputId": "814e7efa-0859-47bd-9958-fb56c80b7903"
      },
      "execution_count": 78,
      "outputs": [
        {
          "output_type": "execute_result",
          "data": {
            "text/plain": [
              "((50040, 28, 28), (50040,), (9960, 28, 28), (9960,))"
            ]
          },
          "metadata": {},
          "execution_count": 78
        }
      ]
    },
    {
      "cell_type": "markdown",
      "source": [
        "###Normalise the images"
      ],
      "metadata": {
        "id": "Nw3-_aujs8F_"
      }
    },
    {
      "cell_type": "markdown",
      "source": [
        "Divide each image in the training , validation and testing set with the maxiumum number of pixels i.e. 255.\n",
        "\n",
        "This is to ensure that each pixel is in the range [0, 1]. \n",
        "\n",
        "Also normalizing images helps the model to converge faster."
      ],
      "metadata": {
        "id": "OEnKPQ5EwxML"
      }
    },
    {
      "cell_type": "code",
      "source": [
        "X_train = X_train/255.0"
      ],
      "metadata": {
        "id": "q17ZLBg0FajA"
      },
      "execution_count": 79,
      "outputs": []
    },
    {
      "cell_type": "code",
      "source": [
        "X_val = X_val/255.0"
      ],
      "metadata": {
        "id": "20a3to60D49h"
      },
      "execution_count": 80,
      "outputs": []
    },
    {
      "cell_type": "code",
      "source": [
        "X_test = X_test/255.0"
      ],
      "metadata": {
        "id": "C8jJhWxrcPef"
      },
      "execution_count": 81,
      "outputs": []
    },
    {
      "cell_type": "markdown",
      "source": [
        "###Reshaping the dataset"
      ],
      "metadata": {
        "id": "FXVcvgEBtM_r"
      }
    },
    {
      "cell_type": "markdown",
      "source": [
        "reshape the input to be in a vector format, as is required by a fully connected network"
      ],
      "metadata": {
        "id": "1fhOlKUXxgoT"
      }
    },
    {
      "cell_type": "code",
      "source": [
        "X_train = X_train.reshape(-1, 28*28)\n",
        "X_train.shape"
      ],
      "metadata": {
        "colab": {
          "base_uri": "https://localhost:8080/"
        },
        "id": "ypapWH7PcSIy",
        "outputId": "85a115f0-c4ec-4cb3-cf55-87b9864dd959"
      },
      "execution_count": 82,
      "outputs": [
        {
          "output_type": "execute_result",
          "data": {
            "text/plain": [
              "(50040, 784)"
            ]
          },
          "metadata": {},
          "execution_count": 82
        }
      ]
    },
    {
      "cell_type": "code",
      "source": [
        "X_val = X_val.reshape(-1, 28*28)\n",
        "X_val.shape"
      ],
      "metadata": {
        "colab": {
          "base_uri": "https://localhost:8080/"
        },
        "id": "tVX_PQFRg2nF",
        "outputId": "0c04087a-13ee-44da-e28a-15f680f103ff"
      },
      "execution_count": 83,
      "outputs": [
        {
          "output_type": "execute_result",
          "data": {
            "text/plain": [
              "(9960, 784)"
            ]
          },
          "metadata": {},
          "execution_count": 83
        }
      ]
    },
    {
      "cell_type": "code",
      "source": [
        "X_test = X_test.reshape(-1, 28*28)\n",
        "X_test.shape"
      ],
      "metadata": {
        "colab": {
          "base_uri": "https://localhost:8080/"
        },
        "id": "sunnsIyyclbO",
        "outputId": "8993e019-a9d5-4082-9b45-1d0d8bbb43f0"
      },
      "execution_count": 84,
      "outputs": [
        {
          "output_type": "execute_result",
          "data": {
            "text/plain": [
              "(10000, 784)"
            ]
          },
          "metadata": {},
          "execution_count": 84
        }
      ]
    },
    {
      "cell_type": "markdown",
      "source": [
        "##Building an Artificial Neural Network"
      ],
      "metadata": {
        "id": "kze4qTVudCyt"
      }
    },
    {
      "cell_type": "markdown",
      "source": [
        "Step 1 : Defining the model\n",
        "\n",
        "Step 2 : Adding the first layer (Dense layer)\n",
        "\n",
        "Step 3 :  Adding a Dropout layer\n",
        "\n",
        "Step 4 :  Adding the second layer (output layer)"
      ],
      "metadata": {
        "id": "Eh57IH82yAzv"
      }
    },
    {
      "cell_type": "markdown",
      "source": [
        "**Defining the model** : \n",
        "\n",
        "Define an object of the Sequential model."
      ],
      "metadata": {
        "id": "qsKLmbp3ysO0"
      }
    },
    {
      "cell_type": "code",
      "source": [
        "model = tf.keras.models.Sequential()"
      ],
      "metadata": {
        "id": "8D2G16f8yhLz"
      },
      "execution_count": 85,
      "outputs": []
    },
    {
      "cell_type": "markdown",
      "source": [
        "**Adding the first layer (Dense layer):**\n",
        "\n",
        "Hyper-parameters used for the layer are:\n",
        "\n",
        "number of units/neurons: 128\n",
        "\n",
        "activation function: ReLU\n",
        "\n",
        "input_shape: (784, )"
      ],
      "metadata": {
        "id": "qbJQjylgy31K"
      }
    },
    {
      "cell_type": "code",
      "source": [
        "model.add(tf.keras.layers.Dense(units=128, activation='relu', input_shape=(784,)))"
      ],
      "metadata": {
        "id": "UmEjun8pzJI5"
      },
      "execution_count": 86,
      "outputs": []
    },
    {
      "cell_type": "markdown",
      "source": [
        "**Adding a Dropout layer**\n",
        "\n",
        "Dropout is a Regularization technique where the neurons in a layer are set to zero. \n",
        "\n",
        "In this way, while training those neurons won't be updated. \n",
        "\n",
        "This reduces the chance of overfitting of a network."
      ],
      "metadata": {
        "id": "SdGXGeZizgJ9"
      }
    },
    {
      "cell_type": "code",
      "source": [
        "model.add(tf.keras.layers.Dropout(rate=0.40))\n",
        "#dropout rate can be changed as needed"
      ],
      "metadata": {
        "id": "MXNxTSZQzVN4"
      },
      "execution_count": 87,
      "outputs": []
    },
    {
      "cell_type": "markdown",
      "source": [
        "**Adding the second layer (output layer)**\n",
        "\n",
        "no of units == number of output classes (10 in the case of Fashion MNIST)\n",
        "\n",
        "activation function = 'softmax'(as it gives probability summing up to 1)"
      ],
      "metadata": {
        "id": "RjoVkHj00IXT"
      }
    },
    {
      "cell_type": "code",
      "source": [
        "model.add(tf.keras.layers.Dense(units=10,activation='softmax'))"
      ],
      "metadata": {
        "id": "gArA8vYI0f_D"
      },
      "execution_count": 88,
      "outputs": []
    },
    {
      "cell_type": "markdown",
      "source": [
        "**Final Model after some trails**"
      ],
      "metadata": {
        "id": "3EASyr1s0ulZ"
      }
    },
    {
      "cell_type": "code",
      "source": [
        "model = tf.keras.models.Sequential()\n",
        "model.add(tf.keras.layers.Dense(units=128, activation='relu', input_shape=(784,)))\n",
        "model.add(tf.keras.layers.Dropout(rate=0.40))\n",
        "model.add(tf.keras.layers.Dense(units=64, activation='relu'))\n",
        "model.add(tf.keras.layers.Dropout(rate=0.50))\n",
        "model.add(tf.keras.layers.Dense(units=10,activation='softmax'))"
      ],
      "metadata": {
        "id": "NI4JCyUpdGjz"
      },
      "execution_count": 133,
      "outputs": []
    },
    {
      "cell_type": "markdown",
      "source": [
        "## Compile the model"
      ],
      "metadata": {
        "id": "pJmCSTnBtn6r"
      }
    },
    {
      "cell_type": "markdown",
      "source": [
        "**Optimizer**: Adam\n",
        "\n",
        "**Loss**: Sparse categorical crossentropy - this is used when the number of classes to predict is more than two"
      ],
      "metadata": {
        "id": "Y62mt5vv1OmX"
      }
    },
    {
      "cell_type": "code",
      "source": [
        "#compile\n",
        "model.compile(optimizer='adam', loss='sparse_categorical_crossentropy',metrics= ['sparse_categorical_accuracy'])"
      ],
      "metadata": {
        "id": "-MhneYd-fPx9"
      },
      "execution_count": 134,
      "outputs": []
    },
    {
      "cell_type": "code",
      "source": [
        "model.summary()"
      ],
      "metadata": {
        "colab": {
          "base_uri": "https://localhost:8080/"
        },
        "id": "gLCyNnY-fj43",
        "outputId": "a6d66ab0-0dbf-4a86-cef7-73cf74a3123c"
      },
      "execution_count": 135,
      "outputs": [
        {
          "output_type": "stream",
          "name": "stdout",
          "text": [
            "Model: \"sequential_10\"\n",
            "_________________________________________________________________\n",
            " Layer (type)                Output Shape              Param #   \n",
            "=================================================================\n",
            " dense_33 (Dense)            (None, 128)               100480    \n",
            "                                                                 \n",
            " dropout_23 (Dropout)        (None, 128)               0         \n",
            "                                                                 \n",
            " dense_34 (Dense)            (None, 64)                8256      \n",
            "                                                                 \n",
            " dropout_24 (Dropout)        (None, 64)                0         \n",
            "                                                                 \n",
            " dense_35 (Dense)            (None, 10)                650       \n",
            "                                                                 \n",
            "=================================================================\n",
            "Total params: 109,386\n",
            "Trainable params: 109,386\n",
            "Non-trainable params: 0\n",
            "_________________________________________________________________\n"
          ]
        }
      ]
    },
    {
      "cell_type": "markdown",
      "source": [
        "###Plot the model"
      ],
      "metadata": {
        "id": "oLDKJ0qH5TGQ"
      }
    },
    {
      "cell_type": "markdown",
      "source": [
        "plot the model and export the image "
      ],
      "metadata": {
        "id": "mDdIHnG95WE7"
      }
    },
    {
      "cell_type": "code",
      "source": [
        "tf.keras.utils.plot_model(model,\n",
        "                          to_file='model.png',\n",
        "                          show_shapes=True,\n",
        "                          show_dtype=True,\n",
        "                          show_layer_activations=True,\n",
        "                          show_trainable=True)"
      ],
      "metadata": {
        "colab": {
          "base_uri": "https://localhost:8080/",
          "height": 828
        },
        "id": "LTAArUG95bxR",
        "outputId": "323780f1-ef77-4ce7-c52f-e9e1f6f63940"
      },
      "execution_count": 136,
      "outputs": [
        {
          "output_type": "execute_result",
          "data": {
            "image/png": "[encoded data removed]",
            "text/plain": [
              "<IPython.core.display.Image object>"
            ]
          },
          "metadata": {},
          "execution_count": 136
        }
      ]
    },
    {
      "cell_type": "markdown",
      "source": [
        "## fit the model"
      ],
      "metadata": {
        "id": "kHS1x6TWttFl"
      }
    },
    {
      "cell_type": "markdown",
      "source": [
        "training the model to learn from the image data"
      ],
      "metadata": {
        "id": "dt5Fs4UG3z5n"
      }
    },
    {
      "cell_type": "code",
      "source": [
        "#train model\n",
        "history = model.fit(X_train, y_train, epochs=20, validation_data=[X_val, y_val])\n"
      ],
      "metadata": {
        "colab": {
          "base_uri": "https://localhost:8080/"
        },
        "id": "KQ9S4g6Kfnwp",
        "outputId": "39084080-8d40-49c0-94db-8f893bc0e2fd"
      },
      "execution_count": 137,
      "outputs": [
        {
          "output_type": "stream",
          "name": "stdout",
          "text": [
            "Epoch 1/20\n",
            "1564/1564 [==============================] - 7s 4ms/step - loss: 0.7664 - sparse_categorical_accuracy: 0.7279 - val_loss: 0.4474 - val_sparse_categorical_accuracy: 0.8345\n",
            "Epoch 2/20\n",
            "1564/1564 [==============================] - 6s 4ms/step - loss: 0.5453 - sparse_categorical_accuracy: 0.8085 - val_loss: 0.4008 - val_sparse_categorical_accuracy: 0.8496\n",
            "Epoch 3/20\n",
            "1564/1564 [==============================] - 6s 4ms/step - loss: 0.5060 - sparse_categorical_accuracy: 0.8220 - val_loss: 0.3868 - val_sparse_categorical_accuracy: 0.8556\n",
            "Epoch 4/20\n",
            "1564/1564 [==============================] - 6s 4ms/step - loss: 0.4802 - sparse_categorical_accuracy: 0.8335 - val_loss: 0.3689 - val_sparse_categorical_accuracy: 0.8622\n",
            "Epoch 5/20\n",
            "1564/1564 [==============================] - 6s 4ms/step - loss: 0.4609 - sparse_categorical_accuracy: 0.8377 - val_loss: 0.3687 - val_sparse_categorical_accuracy: 0.8632\n",
            "Epoch 6/20\n",
            "1564/1564 [==============================] - 6s 4ms/step - loss: 0.4438 - sparse_categorical_accuracy: 0.8438 - val_loss: 0.3634 - val_sparse_categorical_accuracy: 0.8663\n",
            "Epoch 7/20\n",
            "1564/1564 [==============================] - 7s 4ms/step - loss: 0.4344 - sparse_categorical_accuracy: 0.8452 - val_loss: 0.3552 - val_sparse_categorical_accuracy: 0.8691\n",
            "Epoch 8/20\n",
            "1564/1564 [==============================] - 6s 4ms/step - loss: 0.4230 - sparse_categorical_accuracy: 0.8497 - val_loss: 0.3519 - val_sparse_categorical_accuracy: 0.8706\n",
            "Epoch 9/20\n",
            "1564/1564 [==============================] - 7s 5ms/step - loss: 0.4186 - sparse_categorical_accuracy: 0.8510 - val_loss: 0.3474 - val_sparse_categorical_accuracy: 0.8694\n",
            "Epoch 10/20\n",
            "1564/1564 [==============================] - 6s 4ms/step - loss: 0.4120 - sparse_categorical_accuracy: 0.8550 - val_loss: 0.3417 - val_sparse_categorical_accuracy: 0.8751\n",
            "Epoch 11/20\n",
            "1564/1564 [==============================] - 7s 5ms/step - loss: 0.4006 - sparse_categorical_accuracy: 0.8559 - val_loss: 0.3384 - val_sparse_categorical_accuracy: 0.8722\n",
            "Epoch 12/20\n",
            "1564/1564 [==============================] - 6s 4ms/step - loss: 0.3968 - sparse_categorical_accuracy: 0.8568 - val_loss: 0.3358 - val_sparse_categorical_accuracy: 0.8794\n",
            "Epoch 13/20\n",
            "1564/1564 [==============================] - 7s 5ms/step - loss: 0.3987 - sparse_categorical_accuracy: 0.8581 - val_loss: 0.3377 - val_sparse_categorical_accuracy: 0.8742\n",
            "Epoch 14/20\n",
            "1564/1564 [==============================] - 6s 4ms/step - loss: 0.3889 - sparse_categorical_accuracy: 0.8613 - val_loss: 0.3375 - val_sparse_categorical_accuracy: 0.8778\n",
            "Epoch 15/20\n",
            "1564/1564 [==============================] - 7s 5ms/step - loss: 0.3879 - sparse_categorical_accuracy: 0.8616 - val_loss: 0.3365 - val_sparse_categorical_accuracy: 0.8803\n",
            "Epoch 16/20\n",
            "1564/1564 [==============================] - 6s 4ms/step - loss: 0.3853 - sparse_categorical_accuracy: 0.8632 - val_loss: 0.3459 - val_sparse_categorical_accuracy: 0.8770\n",
            "Epoch 17/20\n",
            "1564/1564 [==============================] - 7s 4ms/step - loss: 0.3802 - sparse_categorical_accuracy: 0.8650 - val_loss: 0.3353 - val_sparse_categorical_accuracy: 0.8765\n",
            "Epoch 18/20\n",
            "1564/1564 [==============================] - 6s 4ms/step - loss: 0.3746 - sparse_categorical_accuracy: 0.8665 - val_loss: 0.3389 - val_sparse_categorical_accuracy: 0.8784\n",
            "Epoch 19/20\n",
            "1564/1564 [==============================] - 7s 4ms/step - loss: 0.3726 - sparse_categorical_accuracy: 0.8667 - val_loss: 0.3392 - val_sparse_categorical_accuracy: 0.8758\n",
            "Epoch 20/20\n",
            "1564/1564 [==============================] - 6s 4ms/step - loss: 0.3721 - sparse_categorical_accuracy: 0.8670 - val_loss: 0.3373 - val_sparse_categorical_accuracy: 0.8793\n"
          ]
        }
      ]
    },
    {
      "cell_type": "markdown",
      "source": [
        "## plot the metrics"
      ],
      "metadata": {
        "id": "d7KAzgOrtyOy"
      }
    },
    {
      "cell_type": "code",
      "source": [
        "history.history.keys()"
      ],
      "metadata": {
        "colab": {
          "base_uri": "https://localhost:8080/"
        },
        "id": "GT62r0CChdzW",
        "outputId": "27aed346-9247-406b-dffc-e19aa08cef60"
      },
      "execution_count": 138,
      "outputs": [
        {
          "output_type": "execute_result",
          "data": {
            "text/plain": [
              "dict_keys(['loss', 'sparse_categorical_accuracy', 'val_loss', 'val_sparse_categorical_accuracy'])"
            ]
          },
          "metadata": {},
          "execution_count": 138
        }
      ]
    },
    {
      "cell_type": "code",
      "source": [
        "pd.DataFrame(history.history).plot()"
      ],
      "metadata": {
        "colab": {
          "base_uri": "https://localhost:8080/",
          "height": 448
        },
        "id": "AN4jk3CqVOQV",
        "outputId": "c6ae149b-0f87-442f-8d58-3fc9bbf6fd6f"
      },
      "execution_count": 139,
      "outputs": [
        {
          "output_type": "execute_result",
          "data": {
            "text/plain": [
              "<Axes: >"
            ]
          },
          "metadata": {},
          "execution_count": 139
        },
        {
          "output_type": "display_data",
          "data": {
            "text/plain": [
              "<Figure size 640x480 with 1 Axes>"
            ],
            "image/png": "[encoded data removed]"
          },
          "metadata": {}
        }
      ]
    },
    {
      "cell_type": "markdown",
      "source": [
        "## Evaluate the model"
      ],
      "metadata": {
        "id": "iTU44RocuH1J"
      }
    },
    {
      "cell_type": "markdown",
      "source": [
        "Checking the accuracy of the model on test(unseen) set"
      ],
      "metadata": {
        "id": "L1EN9p9R3jAe"
      }
    },
    {
      "cell_type": "code",
      "source": [
        "#evaluate\n",
        "test_loss, test_accuracy = model.evaluate(X_test, y_test)\n",
        "test_loss, test_accuracy"
      ],
      "metadata": {
        "colab": {
          "base_uri": "https://localhost:8080/"
        },
        "id": "qlUwjJgMnsf7",
        "outputId": "306e3a4b-de50-4c59-8fa7-d2be5f7fa272"
      },
      "execution_count": 140,
      "outputs": [
        {
          "output_type": "stream",
          "name": "stdout",
          "text": [
            "313/313 [==============================] - 1s 2ms/step - loss: 0.3681 - sparse_categorical_accuracy: 0.8724\n"
          ]
        },
        {
          "output_type": "execute_result",
          "data": {
            "text/plain": [
              "(0.3681429326534271, 0.8723999857902527)"
            ]
          },
          "metadata": {},
          "execution_count": 140
        }
      ]
    },
    {
      "cell_type": "code",
      "source": [
        "print(\"Test accuracy is : {}\".format(test_accuracy))"
      ],
      "metadata": {
        "colab": {
          "base_uri": "https://localhost:8080/"
        },
        "id": "zhDciYkP3rlb",
        "outputId": "4a03cd11-9393-499c-dc7d-54955fe90731"
      },
      "execution_count": 141,
      "outputs": [
        {
          "output_type": "stream",
          "name": "stdout",
          "text": [
            "Test accuracy is : 0.8723999857902527\n"
          ]
        }
      ]
    },
    {
      "cell_type": "markdown",
      "source": [
        "## Save the model for deployment"
      ],
      "metadata": {
        "id": "4Yz2xMGeuKcL"
      }
    },
    {
      "cell_type": "markdown",
      "source": [
        "Saving the architecture (topology) of the network"
      ],
      "metadata": {
        "id": "2HJHbiC63a_r"
      }
    },
    {
      "cell_type": "code",
      "source": [
        "#save the model\n",
        "model_json = model.to_json()\n",
        "with open(\"fashin_model.json\",\"w\") as json_file:\n",
        "  json_file.write(model_json)"
      ],
      "metadata": {
        "id": "XmvF3SMGoZo5"
      },
      "execution_count": 142,
      "outputs": []
    },
    {
      "cell_type": "markdown",
      "source": [
        "Saving network weights"
      ],
      "metadata": {
        "id": "XcvrDxFc3cdb"
      }
    },
    {
      "cell_type": "code",
      "source": [
        "#save weights\n",
        "model.save_weights(\"fashion_model.h5\")"
      ],
      "metadata": {
        "id": "1byaxwYTra-t"
      },
      "execution_count": 143,
      "outputs": []
    },
    {
      "cell_type": "code",
      "source": [],
      "metadata": {
        "id": "tqxT818BrsqV"
      },
      "execution_count": 143,
      "outputs": []
    }
  ]
}